{
  "nbformat": 4,
  "nbformat_minor": 0,
  "metadata": {
    "colab": {
      "provenance": [],
      "authorship_tag": "ABX9TyOyt/HZ77PppZpEK7CdKjwm",
      "include_colab_link": true
    },
    "kernelspec": {
      "name": "python3",
      "display_name": "Python 3"
    },
    "language_info": {
      "name": "python"
    }
  },
  "cells": [
    {
      "cell_type": "markdown",
      "metadata": {
        "id": "view-in-github",
        "colab_type": "text"
      },
      "source": [
        "<a href=\"https://colab.research.google.com/github/FrankPerera04/DSPL_Individual_CW/blob/main/Data%20Pre%20Processing/Pre_Processing.ipynb\" target=\"_parent\"><img src=\"https://colab.research.google.com/assets/colab-badge.svg\" alt=\"Open In Colab\"/></a>"
      ]
    },
    {
      "cell_type": "code",
      "source": [
        "from google.colab import drive\n",
        "drive.mount('/content/drive')"
      ],
      "metadata": {
        "id": "Dhvo-6FIVCOD",
        "outputId": "50259312-f919-42f6-fbd2-0dbb08ec1cf2",
        "colab": {
          "base_uri": "https://localhost:8080/"
        }
      },
      "execution_count": null,
      "outputs": [
        {
          "output_type": "stream",
          "name": "stdout",
          "text": [
            "Mounted at /content/drive\n"
          ]
        }
      ]
    },
    {
      "cell_type": "code",
      "source": [
        "import pandas as pd"
      ],
      "metadata": {
        "id": "1BQcW12IVEHt"
      },
      "execution_count": null,
      "outputs": []
    },
    {
      "cell_type": "code",
      "source": [
        "df = pd.read_csv('/content/drive/MyDrive/Colab Data Files/Data Science Project Lifecycle/Individual CW/Information for Accommodation.csv')"
      ],
      "metadata": {
        "id": "A-KtzUVtVGf1"
      },
      "execution_count": null,
      "outputs": []
    },
    {
      "cell_type": "markdown",
      "source": [
        "## Dataset Overview"
      ],
      "metadata": {
        "id": "3DfU_2D9SlWA"
      }
    },
    {
      "cell_type": "code",
      "source": [
        "# Display the DataFrame (optional)\n",
        "df.head()"
      ],
      "metadata": {
        "colab": {
          "base_uri": "https://localhost:8080/"
        },
        "id": "bf9yvTogPsbO",
        "outputId": "ed6ca6a7-79b4-4f3c-ba52-dd5f290d6c73"
      },
      "execution_count": null,
      "outputs": [
        {
          "output_type": "execute_result",
          "data": {
            "text/plain": [
              "              Type                     Name  \\\n",
              "0  Boutique Hotels      THE THEVA RESIDENCY   \n",
              "1  Boutique Hotels           HIGHLAND VILLA   \n",
              "2  Boutique Hotels  ULAGALLA WALAWWA RESORT   \n",
              "3  Boutique Hotels         GALLE FORT HOTEL   \n",
              "4  Boutique Hotels    THE ELEPHANT CORRIDOR   \n",
              "\n",
              "                                      Address  Rooms Grade      District  \\\n",
              "0         11/B5/10-1 06TH LANE, HANTANA,KANDY     10   NaN         Kandy   \n",
              "1  351, ABIMANGAMA ROAD, KUMBALGAMA, WELIGAMA     10   NaN        Matara   \n",
              "2                    THIRAPPANE, ANURADHAPURA     21   NaN  Anuradhapura   \n",
              "3          NO.28, CHURCH STREET, FORT , GALLE     14   NaN         Galle   \n",
              "4                   POTHANA,KIBISSA, SIGIRIYA     21   NaN        Matale   \n",
              "\n",
              "                      AGA Division                   PS/MC/UC  Logitiute  \\\n",
              "0     Kandy Divisional Secretariat                      Kandy  80.635411   \n",
              "1  Weligama Divisional Secretariat  Weligama Pradeshiya Sabha  80.409972   \n",
              "2                Anuradhapura East               Anuradhapura  80.545063   \n",
              "3     Galle Divisional Secretariat                      Galle  80.217563   \n",
              "4                              NaN                     Matale  80.710743   \n",
              "\n",
              "   Latitude  \n",
              "0  7.276036  \n",
              "1  5.960334  \n",
              "2  8.205927  \n",
              "3  6.026649  \n",
              "4  7.943525  "
            ],
            "text/html": [
              "\n",
              "  <div id=\"df-26530bda-37a6-49dd-8bb7-97e0c54360b4\" class=\"colab-df-container\">\n",
              "    <div>\n",
              "<style scoped>\n",
              "    .dataframe tbody tr th:only-of-type {\n",
              "        vertical-align: middle;\n",
              "    }\n",
              "\n",
              "    .dataframe tbody tr th {\n",
              "        vertical-align: top;\n",
              "    }\n",
              "\n",
              "    .dataframe thead th {\n",
              "        text-align: right;\n",
              "    }\n",
              "</style>\n",
              "<table border=\"1\" class=\"dataframe\">\n",
              "  <thead>\n",
              "    <tr style=\"text-align: right;\">\n",
              "      <th></th>\n",
              "      <th>Type</th>\n",
              "      <th>Name</th>\n",
              "      <th>Address</th>\n",
              "      <th>Rooms</th>\n",
              "      <th>Grade</th>\n",
              "      <th>District</th>\n",
              "      <th>AGA Division</th>\n",
              "      <th>PS/MC/UC</th>\n",
              "      <th>Logitiute</th>\n",
              "      <th>Latitude</th>\n",
              "    </tr>\n",
              "  </thead>\n",
              "  <tbody>\n",
              "    <tr>\n",
              "      <th>0</th>\n",
              "      <td>Boutique Hotels</td>\n",
              "      <td>THE THEVA RESIDENCY</td>\n",
              "      <td>11/B5/10-1 06TH LANE, HANTANA,KANDY</td>\n",
              "      <td>10</td>\n",
              "      <td>NaN</td>\n",
              "      <td>Kandy</td>\n",
              "      <td>Kandy Divisional Secretariat</td>\n",
              "      <td>Kandy</td>\n",
              "      <td>80.635411</td>\n",
              "      <td>7.276036</td>\n",
              "    </tr>\n",
              "    <tr>\n",
              "      <th>1</th>\n",
              "      <td>Boutique Hotels</td>\n",
              "      <td>HIGHLAND VILLA</td>\n",
              "      <td>351, ABIMANGAMA ROAD, KUMBALGAMA, WELIGAMA</td>\n",
              "      <td>10</td>\n",
              "      <td>NaN</td>\n",
              "      <td>Matara</td>\n",
              "      <td>Weligama Divisional Secretariat</td>\n",
              "      <td>Weligama Pradeshiya Sabha</td>\n",
              "      <td>80.409972</td>\n",
              "      <td>5.960334</td>\n",
              "    </tr>\n",
              "    <tr>\n",
              "      <th>2</th>\n",
              "      <td>Boutique Hotels</td>\n",
              "      <td>ULAGALLA WALAWWA RESORT</td>\n",
              "      <td>THIRAPPANE, ANURADHAPURA</td>\n",
              "      <td>21</td>\n",
              "      <td>NaN</td>\n",
              "      <td>Anuradhapura</td>\n",
              "      <td>Anuradhapura East</td>\n",
              "      <td>Anuradhapura</td>\n",
              "      <td>80.545063</td>\n",
              "      <td>8.205927</td>\n",
              "    </tr>\n",
              "    <tr>\n",
              "      <th>3</th>\n",
              "      <td>Boutique Hotels</td>\n",
              "      <td>GALLE FORT HOTEL</td>\n",
              "      <td>NO.28, CHURCH STREET, FORT , GALLE</td>\n",
              "      <td>14</td>\n",
              "      <td>NaN</td>\n",
              "      <td>Galle</td>\n",
              "      <td>Galle Divisional Secretariat</td>\n",
              "      <td>Galle</td>\n",
              "      <td>80.217563</td>\n",
              "      <td>6.026649</td>\n",
              "    </tr>\n",
              "    <tr>\n",
              "      <th>4</th>\n",
              "      <td>Boutique Hotels</td>\n",
              "      <td>THE ELEPHANT CORRIDOR</td>\n",
              "      <td>POTHANA,KIBISSA, SIGIRIYA</td>\n",
              "      <td>21</td>\n",
              "      <td>NaN</td>\n",
              "      <td>Matale</td>\n",
              "      <td>NaN</td>\n",
              "      <td>Matale</td>\n",
              "      <td>80.710743</td>\n",
              "      <td>7.943525</td>\n",
              "    </tr>\n",
              "  </tbody>\n",
              "</table>\n",
              "</div>\n",
              "    <div class=\"colab-df-buttons\">\n",
              "\n",
              "  <div class=\"colab-df-container\">\n",
              "    <button class=\"colab-df-convert\" onclick=\"convertToInteractive('df-26530bda-37a6-49dd-8bb7-97e0c54360b4')\"\n",
              "            title=\"Convert this dataframe to an interactive table.\"\n",
              "            style=\"display:none;\">\n",
              "\n",
              "  <svg xmlns=\"http://www.w3.org/2000/svg\" height=\"24px\" viewBox=\"0 -960 960 960\">\n",
              "    <path d=\"M120-120v-720h720v720H120Zm60-500h600v-160H180v160Zm220 220h160v-160H400v160Zm0 220h160v-160H400v160ZM180-400h160v-160H180v160Zm440 0h160v-160H620v160ZM180-180h160v-160H180v160Zm440 0h160v-160H620v160Z\"/>\n",
              "  </svg>\n",
              "    </button>\n",
              "\n",
              "  <style>\n",
              "    .colab-df-container {\n",
              "      display:flex;\n",
              "      gap: 12px;\n",
              "    }\n",
              "\n",
              "    .colab-df-convert {\n",
              "      background-color: #E8F0FE;\n",
              "      border: none;\n",
              "      border-radius: 50%;\n",
              "      cursor: pointer;\n",
              "      display: none;\n",
              "      fill: #1967D2;\n",
              "      height: 32px;\n",
              "      padding: 0 0 0 0;\n",
              "      width: 32px;\n",
              "    }\n",
              "\n",
              "    .colab-df-convert:hover {\n",
              "      background-color: #E2EBFA;\n",
              "      box-shadow: 0px 1px 2px rgba(60, 64, 67, 0.3), 0px 1px 3px 1px rgba(60, 64, 67, 0.15);\n",
              "      fill: #174EA6;\n",
              "    }\n",
              "\n",
              "    .colab-df-buttons div {\n",
              "      margin-bottom: 4px;\n",
              "    }\n",
              "\n",
              "    [theme=dark] .colab-df-convert {\n",
              "      background-color: #3B4455;\n",
              "      fill: #D2E3FC;\n",
              "    }\n",
              "\n",
              "    [theme=dark] .colab-df-convert:hover {\n",
              "      background-color: #434B5C;\n",
              "      box-shadow: 0px 1px 3px 1px rgba(0, 0, 0, 0.15);\n",
              "      filter: drop-shadow(0px 1px 2px rgba(0, 0, 0, 0.3));\n",
              "      fill: #FFFFFF;\n",
              "    }\n",
              "  </style>\n",
              "\n",
              "    <script>\n",
              "      const buttonEl =\n",
              "        document.querySelector('#df-26530bda-37a6-49dd-8bb7-97e0c54360b4 button.colab-df-convert');\n",
              "      buttonEl.style.display =\n",
              "        google.colab.kernel.accessAllowed ? 'block' : 'none';\n",
              "\n",
              "      async function convertToInteractive(key) {\n",
              "        const element = document.querySelector('#df-26530bda-37a6-49dd-8bb7-97e0c54360b4');\n",
              "        const dataTable =\n",
              "          await google.colab.kernel.invokeFunction('convertToInteractive',\n",
              "                                                    [key], {});\n",
              "        if (!dataTable) return;\n",
              "\n",
              "        const docLinkHtml = 'Like what you see? Visit the ' +\n",
              "          '<a target=\"_blank\" href=https://colab.research.google.com/notebooks/data_table.ipynb>data table notebook</a>'\n",
              "          + ' to learn more about interactive tables.';\n",
              "        element.innerHTML = '';\n",
              "        dataTable['output_type'] = 'display_data';\n",
              "        await google.colab.output.renderOutput(dataTable, element);\n",
              "        const docLink = document.createElement('div');\n",
              "        docLink.innerHTML = docLinkHtml;\n",
              "        element.appendChild(docLink);\n",
              "      }\n",
              "    </script>\n",
              "  </div>\n",
              "\n",
              "\n",
              "<div id=\"df-9f9b69c6-e477-4a7d-a57f-749c4925b48f\">\n",
              "  <button class=\"colab-df-quickchart\" onclick=\"quickchart('df-9f9b69c6-e477-4a7d-a57f-749c4925b48f')\"\n",
              "            title=\"Suggest charts\"\n",
              "            style=\"display:none;\">\n",
              "\n",
              "<svg xmlns=\"http://www.w3.org/2000/svg\" height=\"24px\"viewBox=\"0 0 24 24\"\n",
              "     width=\"24px\">\n",
              "    <g>\n",
              "        <path d=\"M19 3H5c-1.1 0-2 .9-2 2v14c0 1.1.9 2 2 2h14c1.1 0 2-.9 2-2V5c0-1.1-.9-2-2-2zM9 17H7v-7h2v7zm4 0h-2V7h2v10zm4 0h-2v-4h2v4z\"/>\n",
              "    </g>\n",
              "</svg>\n",
              "  </button>\n",
              "\n",
              "<style>\n",
              "  .colab-df-quickchart {\n",
              "      --bg-color: #E8F0FE;\n",
              "      --fill-color: #1967D2;\n",
              "      --hover-bg-color: #E2EBFA;\n",
              "      --hover-fill-color: #174EA6;\n",
              "      --disabled-fill-color: #AAA;\n",
              "      --disabled-bg-color: #DDD;\n",
              "  }\n",
              "\n",
              "  [theme=dark] .colab-df-quickchart {\n",
              "      --bg-color: #3B4455;\n",
              "      --fill-color: #D2E3FC;\n",
              "      --hover-bg-color: #434B5C;\n",
              "      --hover-fill-color: #FFFFFF;\n",
              "      --disabled-bg-color: #3B4455;\n",
              "      --disabled-fill-color: #666;\n",
              "  }\n",
              "\n",
              "  .colab-df-quickchart {\n",
              "    background-color: var(--bg-color);\n",
              "    border: none;\n",
              "    border-radius: 50%;\n",
              "    cursor: pointer;\n",
              "    display: none;\n",
              "    fill: var(--fill-color);\n",
              "    height: 32px;\n",
              "    padding: 0;\n",
              "    width: 32px;\n",
              "  }\n",
              "\n",
              "  .colab-df-quickchart:hover {\n",
              "    background-color: var(--hover-bg-color);\n",
              "    box-shadow: 0 1px 2px rgba(60, 64, 67, 0.3), 0 1px 3px 1px rgba(60, 64, 67, 0.15);\n",
              "    fill: var(--button-hover-fill-color);\n",
              "  }\n",
              "\n",
              "  .colab-df-quickchart-complete:disabled,\n",
              "  .colab-df-quickchart-complete:disabled:hover {\n",
              "    background-color: var(--disabled-bg-color);\n",
              "    fill: var(--disabled-fill-color);\n",
              "    box-shadow: none;\n",
              "  }\n",
              "\n",
              "  .colab-df-spinner {\n",
              "    border: 2px solid var(--fill-color);\n",
              "    border-color: transparent;\n",
              "    border-bottom-color: var(--fill-color);\n",
              "    animation:\n",
              "      spin 1s steps(1) infinite;\n",
              "  }\n",
              "\n",
              "  @keyframes spin {\n",
              "    0% {\n",
              "      border-color: transparent;\n",
              "      border-bottom-color: var(--fill-color);\n",
              "      border-left-color: var(--fill-color);\n",
              "    }\n",
              "    20% {\n",
              "      border-color: transparent;\n",
              "      border-left-color: var(--fill-color);\n",
              "      border-top-color: var(--fill-color);\n",
              "    }\n",
              "    30% {\n",
              "      border-color: transparent;\n",
              "      border-left-color: var(--fill-color);\n",
              "      border-top-color: var(--fill-color);\n",
              "      border-right-color: var(--fill-color);\n",
              "    }\n",
              "    40% {\n",
              "      border-color: transparent;\n",
              "      border-right-color: var(--fill-color);\n",
              "      border-top-color: var(--fill-color);\n",
              "    }\n",
              "    60% {\n",
              "      border-color: transparent;\n",
              "      border-right-color: var(--fill-color);\n",
              "    }\n",
              "    80% {\n",
              "      border-color: transparent;\n",
              "      border-right-color: var(--fill-color);\n",
              "      border-bottom-color: var(--fill-color);\n",
              "    }\n",
              "    90% {\n",
              "      border-color: transparent;\n",
              "      border-bottom-color: var(--fill-color);\n",
              "    }\n",
              "  }\n",
              "</style>\n",
              "\n",
              "  <script>\n",
              "    async function quickchart(key) {\n",
              "      const quickchartButtonEl =\n",
              "        document.querySelector('#' + key + ' button');\n",
              "      quickchartButtonEl.disabled = true;  // To prevent multiple clicks.\n",
              "      quickchartButtonEl.classList.add('colab-df-spinner');\n",
              "      try {\n",
              "        const charts = await google.colab.kernel.invokeFunction(\n",
              "            'suggestCharts', [key], {});\n",
              "      } catch (error) {\n",
              "        console.error('Error during call to suggestCharts:', error);\n",
              "      }\n",
              "      quickchartButtonEl.classList.remove('colab-df-spinner');\n",
              "      quickchartButtonEl.classList.add('colab-df-quickchart-complete');\n",
              "    }\n",
              "    (() => {\n",
              "      let quickchartButtonEl =\n",
              "        document.querySelector('#df-9f9b69c6-e477-4a7d-a57f-749c4925b48f button');\n",
              "      quickchartButtonEl.style.display =\n",
              "        google.colab.kernel.accessAllowed ? 'block' : 'none';\n",
              "    })();\n",
              "  </script>\n",
              "</div>\n",
              "\n",
              "    </div>\n",
              "  </div>\n"
            ],
            "application/vnd.google.colaboratory.intrinsic+json": {
              "type": "dataframe",
              "variable_name": "df",
              "summary": "{\n  \"name\": \"df\",\n  \"rows\": 2130,\n  \"fields\": [\n    {\n      \"column\": \"Type\",\n      \"properties\": {\n        \"dtype\": \"category\",\n        \"num_unique_values\": 11,\n        \"samples\": [\n          \"Heritage Bungalows\",\n          \"Boutique Hotels\",\n          \"Rented Homes\"\n        ],\n        \"semantic_type\": \"\",\n        \"description\": \"\"\n      }\n    },\n    {\n      \"column\": \"Name\",\n      \"properties\": {\n        \"dtype\": \"string\",\n        \"num_unique_values\": 2120,\n        \"samples\": [\n          \"KALU S HIDEAWAY\",\n          \"HOTEL EURO LANKA\",\n          \"KING FISHER LEISURE\"\n        ],\n        \"semantic_type\": \"\",\n        \"description\": \"\"\n      }\n    },\n    {\n      \"column\": \"Address\",\n      \"properties\": {\n        \"dtype\": \"string\",\n        \"num_unique_values\": 2095,\n        \"samples\": [\n          \"16/6, CAMBRIDGE PLACE, COLOMBO 7\",\n          \"PERAKANATTE, GANGEYAYA, WILGAMUWA, WASGAMUWA\",\n          \"KALPITIYA ROAD,THIHALIYA,ETHTHALE\"\n        ],\n        \"semantic_type\": \"\",\n        \"description\": \"\"\n      }\n    },\n    {\n      \"column\": \"Rooms\",\n      \"properties\": {\n        \"dtype\": \"number\",\n        \"std\": 36,\n        \"min\": 1,\n        \"max\": 541,\n        \"num_unique_values\": 128,\n        \"samples\": [\n          72,\n          155,\n          3\n        ],\n        \"semantic_type\": \"\",\n        \"description\": \"\"\n      }\n    },\n    {\n      \"column\": \"Grade\",\n      \"properties\": {\n        \"dtype\": \"category\",\n        \"num_unique_values\": 11,\n        \"samples\": [\n          \"FOUR\",\n          \"DELUXE\",\n          \"A\"\n        ],\n        \"semantic_type\": \"\",\n        \"description\": \"\"\n      }\n    },\n    {\n      \"column\": \"District\",\n      \"properties\": {\n        \"dtype\": \"category\",\n        \"num_unique_values\": 25,\n        \"samples\": [\n          \"Batticaloa\",\n          \"Trincomalee\",\n          \"Kandy\"\n        ],\n        \"semantic_type\": \"\",\n        \"description\": \"\"\n      }\n    },\n    {\n      \"column\": \"AGA Division\",\n      \"properties\": {\n        \"dtype\": \"category\",\n        \"num_unique_values\": 183,\n        \"samples\": [\n          \"Nuwara Eliya\",\n          \"Ella Pradeshiya Sabha\",\n          \"Devinuwara Pradeshiya Sabha\"\n        ],\n        \"semantic_type\": \"\",\n        \"description\": \"\"\n      }\n    },\n    {\n      \"column\": \"PS/MC/UC\",\n      \"properties\": {\n        \"dtype\": \"category\",\n        \"num_unique_values\": 232,\n        \"samples\": [\n          \"Mannar Town\",\n          \"Ingiriya Divisional Secretariat\",\n          \"Batticaloa\"\n        ],\n        \"semantic_type\": \"\",\n        \"description\": \"\"\n      }\n    },\n    {\n      \"column\": \"Logitiute\",\n      \"properties\": {\n        \"dtype\": \"number\",\n        \"std\": 0.5091827503269148,\n        \"min\": 79.705919,\n        \"max\": 81.856883,\n        \"num_unique_values\": 1358,\n        \"samples\": [\n          80.179398,\n          79.919137,\n          81.217883\n        ],\n        \"semantic_type\": \"\",\n        \"description\": \"\"\n      }\n    },\n    {\n      \"column\": \"Latitude\",\n      \"properties\": {\n        \"dtype\": \"number\",\n        \"std\": 2.119415440301197,\n        \"min\": 5.936771,\n        \"max\": 80.7916431,\n        \"num_unique_values\": 1359,\n        \"samples\": [\n          6.058846,\n          6.975736,\n          8.615049\n        ],\n        \"semantic_type\": \"\",\n        \"description\": \"\"\n      }\n    }\n  ]\n}"
            }
          },
          "metadata": {},
          "execution_count": 70
        }
      ]
    },
    {
      "cell_type": "code",
      "source": [
        "df.info()"
      ],
      "metadata": {
        "colab": {
          "base_uri": "https://localhost:8080/"
        },
        "id": "kSjaxVznP89r",
        "outputId": "bdcb9d71-1cdd-47ea-be46-edfb7d23d364"
      },
      "execution_count": null,
      "outputs": [
        {
          "output_type": "stream",
          "name": "stdout",
          "text": [
            "<class 'pandas.core.frame.DataFrame'>\n",
            "RangeIndex: 2130 entries, 0 to 2129\n",
            "Data columns (total 10 columns):\n",
            " #   Column        Non-Null Count  Dtype  \n",
            "---  ------        --------------  -----  \n",
            " 0   Type          2130 non-null   object \n",
            " 1   Name          2130 non-null   object \n",
            " 2   Address       2130 non-null   object \n",
            " 3   Rooms         2130 non-null   int64  \n",
            " 4   Grade         1837 non-null   object \n",
            " 5   District      2130 non-null   object \n",
            " 6   AGA Division  2111 non-null   object \n",
            " 7   PS/MC/UC      2127 non-null   object \n",
            " 8   Logitiute     1368 non-null   float64\n",
            " 9   Latitude      1370 non-null   float64\n",
            "dtypes: float64(2), int64(1), object(7)\n",
            "memory usage: 166.5+ KB\n"
          ]
        }
      ]
    },
    {
      "cell_type": "markdown",
      "source": [
        "## Handling Missing Values"
      ],
      "metadata": {
        "id": "ufk0O3USSs3g"
      }
    },
    {
      "cell_type": "code",
      "source": [
        "# Check for missing values\n",
        "print(df.isnull().sum())"
      ],
      "metadata": {
        "id": "Zhxr7_OASvUR",
        "colab": {
          "base_uri": "https://localhost:8080/"
        },
        "outputId": "18eeecbd-7c22-4c30-84af-35aefede4083"
      },
      "execution_count": null,
      "outputs": [
        {
          "output_type": "stream",
          "name": "stdout",
          "text": [
            "Type              0\n",
            "Name              0\n",
            "Address           0\n",
            "Rooms             0\n",
            "Grade           293\n",
            "District          0\n",
            "AGA Division     19\n",
            "PS/MC/UC          3\n",
            "Logitiute       762\n",
            "Latitude        760\n",
            "dtype: int64\n"
          ]
        }
      ]
    },
    {
      "cell_type": "code",
      "source": [
        "# handling missing values\n",
        "df.fillna({'Grade': 'Null'}, inplace=True)\n",
        "df.fillna({'AGA Division': 'Null'}, inplace=True)\n",
        "df.fillna({'PS/MC/UC': 'Null'}, inplace=True)\n",
        "df.dropna(subset=['Logitiute', 'Latitude'], inplace=True)"
      ],
      "metadata": {
        "id": "d4TX5gfp6eKv"
      },
      "execution_count": null,
      "outputs": []
    },
    {
      "cell_type": "code",
      "source": [
        "# Check for missing values\n",
        "print(df.isnull().sum())"
      ],
      "metadata": {
        "colab": {
          "base_uri": "https://localhost:8080/"
        },
        "id": "ujLvtMUR5hrE",
        "outputId": "9d362a6c-4c84-432b-a346-98c30415c248"
      },
      "execution_count": null,
      "outputs": [
        {
          "output_type": "stream",
          "name": "stdout",
          "text": [
            "Type            0\n",
            "Name            0\n",
            "Address         0\n",
            "Rooms           0\n",
            "Grade           0\n",
            "District        0\n",
            "AGA Division    0\n",
            "PS/MC/UC        0\n",
            "Logitiute       0\n",
            "Latitude        0\n",
            "dtype: int64\n"
          ]
        }
      ]
    },
    {
      "cell_type": "code",
      "source": [
        "df.info()"
      ],
      "metadata": {
        "colab": {
          "base_uri": "https://localhost:8080/"
        },
        "id": "ZFLLisjw36i6",
        "outputId": "e84083a0-9e26-4038-b23d-5d49fdb8a007"
      },
      "execution_count": null,
      "outputs": [
        {
          "output_type": "stream",
          "name": "stdout",
          "text": [
            "<class 'pandas.core.frame.DataFrame'>\n",
            "Index: 1367 entries, 0 to 2129\n",
            "Data columns (total 10 columns):\n",
            " #   Column        Non-Null Count  Dtype  \n",
            "---  ------        --------------  -----  \n",
            " 0   Type          1367 non-null   object \n",
            " 1   Name          1367 non-null   object \n",
            " 2   Address       1367 non-null   object \n",
            " 3   Rooms         1367 non-null   int64  \n",
            " 4   Grade         1367 non-null   object \n",
            " 5   District      1367 non-null   object \n",
            " 6   AGA Division  1367 non-null   object \n",
            " 7   PS/MC/UC      1367 non-null   object \n",
            " 8   Logitiute     1367 non-null   float64\n",
            " 9   Latitude      1367 non-null   float64\n",
            "dtypes: float64(2), int64(1), object(7)\n",
            "memory usage: 117.5+ KB\n"
          ]
        }
      ]
    },
    {
      "cell_type": "markdown",
      "source": [
        "## Validation"
      ],
      "metadata": {
        "id": "T5zzKcQa6oOG"
      }
    },
    {
      "cell_type": "code",
      "source": [
        "# Validating Type\n",
        "grade_counts = df['Type'].value_counts()\n",
        "print(grade_counts)"
      ],
      "metadata": {
        "colab": {
          "base_uri": "https://localhost:8080/"
        },
        "id": "YDVEbWFE6syV",
        "outputId": "f4d41d93-ca27-40e7-fbc0-b5815d1f606e"
      },
      "execution_count": null,
      "outputs": [
        {
          "output_type": "stream",
          "name": "stdout",
          "text": [
            "Type\n",
            "Guest Houses                    496\n",
            "Bangalows                       216\n",
            "Home Stay Units                 211\n",
            "Tourist Hotels                  208\n",
            "Classified Hotels( 1-5 Star)    141\n",
            "Boutique Villas                  36\n",
            "Boutique Hotels                  28\n",
            "Rented Apartments                21\n",
            "Rented Homes                      5\n",
            "Heritage Bungalows                3\n",
            "Heritage Homes                    2\n",
            "Name: count, dtype: int64\n"
          ]
        }
      ]
    },
    {
      "cell_type": "code",
      "source": [
        "# Validating Name\n",
        "# Checking if all values in 'Name' are strings\n",
        "Non_text = df[~df['Name'].apply(lambda x: isinstance(x, str))]\n",
        "print(Non_text)\n"
      ],
      "metadata": {
        "colab": {
          "base_uri": "https://localhost:8080/"
        },
        "id": "avREKE8j6y8o",
        "outputId": "97999a71-197d-4616-af86-d49a28bee018"
      },
      "execution_count": null,
      "outputs": [
        {
          "output_type": "stream",
          "name": "stdout",
          "text": [
            "Empty DataFrame\n",
            "Columns: [Type, Name, Address, Rooms, Grade, District, AGA Division, PS/MC/UC, Logitiute, Latitude]\n",
            "Index: []\n"
          ]
        }
      ]
    },
    {
      "cell_type": "code",
      "source": [
        "# Validating Address\n",
        "# Checking if all values in 'Address' are strings\n",
        "non_text_address = df[~df['Name'].apply(lambda x: isinstance(x, str))]\n",
        "print(non_text_address)\n"
      ],
      "metadata": {
        "colab": {
          "base_uri": "https://localhost:8080/"
        },
        "id": "sUrz7hJM7n9j",
        "outputId": "b408aa13-bba5-4586-e79d-3fbadc6219cc"
      },
      "execution_count": null,
      "outputs": [
        {
          "output_type": "stream",
          "name": "stdout",
          "text": [
            "Empty DataFrame\n",
            "Columns: [Type, Name, Address, Rooms, Grade, District, AGA Division, PS/MC/UC, Logitiute, Latitude]\n",
            "Index: []\n"
          ]
        }
      ]
    },
    {
      "cell_type": "code",
      "source": [
        "# Validating Rooms\n",
        "# Checking for non-numeric values in the 'Rooms' column\n",
        "invalid_rooms = df[~df['Rooms'].apply(lambda x: pd.api.types.is_number(x))]\n",
        "print(invalid_rooms)\n"
      ],
      "metadata": {
        "colab": {
          "base_uri": "https://localhost:8080/"
        },
        "id": "R6O4Dazs8Dpb",
        "outputId": "e40514bd-9c78-4fd7-c83b-afd2a7e6d41e"
      },
      "execution_count": null,
      "outputs": [
        {
          "output_type": "stream",
          "name": "stdout",
          "text": [
            "Empty DataFrame\n",
            "Columns: [Type, Name, Address, Rooms, Grade, District, AGA Division, PS/MC/UC, Logitiute, Latitude]\n",
            "Index: []\n"
          ]
        }
      ]
    },
    {
      "cell_type": "code",
      "source": [
        "# Validating Grade\n",
        "grade_counts = df['Grade'].value_counts()\n",
        "print(grade_counts)\n"
      ],
      "metadata": {
        "colab": {
          "base_uri": "https://localhost:8080/"
        },
        "id": "-XbTfxRc3fCC",
        "outputId": "3462b9f8-fad5-4934-d58c-3b19d5566731"
      },
      "execution_count": null,
      "outputs": [
        {
          "output_type": "stream",
          "name": "stdout",
          "text": [
            "Grade\n",
            "A           293\n",
            "Null        272\n",
            "B           188\n",
            "DELUXE      171\n",
            "STANDARD    149\n",
            "SUPERIOR    138\n",
            "ONE          40\n",
            "TWO          37\n",
            "THREE        25\n",
            "FIVE         20\n",
            "FOUR         19\n",
            "C            15\n",
            "Name: count, dtype: int64\n"
          ]
        }
      ]
    },
    {
      "cell_type": "code",
      "source": [
        "#This is done so the Grade column is more organised since now all hotels have a grade from A to D.\n",
        "# Make new Mapping for Grade\n",
        "grade_mapping = {\n",
        "    'SUPERIOR': 'A',\n",
        "    'ONE': 'A',\n",
        "    'DELUXE': 'B',\n",
        "    'TWO': 'B',\n",
        "    'STANDARD': 'C',\n",
        "    'THREE': 'C',\n",
        "    'FOUR': 'D',\n",
        "    'FIVE': 'D'\n",
        "}\n",
        "\n",
        "df['Grade'] = df['Grade'].replace(grade_mapping)\n"
      ],
      "metadata": {
        "id": "KNQ2yGUn90-L"
      },
      "execution_count": null,
      "outputs": []
    },
    {
      "cell_type": "code",
      "source": [
        "# Validating Grade\n",
        "grade_counts = df['Grade'].value_counts()\n",
        "print(grade_counts)"
      ],
      "metadata": {
        "colab": {
          "base_uri": "https://localhost:8080/"
        },
        "id": "M6I3eFLE93Z5",
        "outputId": "04e4b7fa-286f-482d-ddbb-2090722598e9"
      },
      "execution_count": null,
      "outputs": [
        {
          "output_type": "stream",
          "name": "stdout",
          "text": [
            "Grade\n",
            "A       471\n",
            "B       396\n",
            "Null    272\n",
            "C       189\n",
            "D        39\n",
            "Name: count, dtype: int64\n"
          ]
        }
      ]
    },
    {
      "cell_type": "code",
      "source": [
        "# Validating District\n",
        "counts = df['District'].value_counts()\n",
        "print(counts)"
      ],
      "metadata": {
        "colab": {
          "base_uri": "https://localhost:8080/"
        },
        "id": "A4Q-p--b-Y_L",
        "outputId": "30624a27-e049-4105-cec4-dab3f63db156"
      },
      "execution_count": null,
      "outputs": [
        {
          "output_type": "stream",
          "name": "stdout",
          "text": [
            "District\n",
            "Galle           198\n",
            "Kandy           186\n",
            "Colombo         164\n",
            "Gampaha         122\n",
            "Kalutara         89\n",
            "Badulla          74\n",
            "Nuwara Eliya     72\n",
            "Matara           56\n",
            "Matale           53\n",
            "Hambantota       51\n",
            "Anuradhapura     42\n",
            "Puttalam         39\n",
            "Ampara           37\n",
            "Batticaloa       27\n",
            "Ratnapura        26\n",
            "Kurunegala       22\n",
            "Trincomalee      22\n",
            "Kegalle          21\n",
            "Polonnaruwa      21\n",
            "Jaffna           18\n",
            "Moneragala       16\n",
            "Vavuniya          5\n",
            "Kilinochchi       3\n",
            "Mannar            3\n",
            "Name: count, dtype: int64\n"
          ]
        }
      ]
    },
    {
      "cell_type": "code",
      "source": [
        "# Validating AGA Division\n",
        "counts = df['AGA Division'].value_counts()\n",
        "print(counts)"
      ],
      "metadata": {
        "colab": {
          "base_uri": "https://localhost:8080/"
        },
        "id": "xw3LFgeZBVMc",
        "outputId": "991c15f0-69d0-4b99-f3ad-c536fd63e118"
      },
      "execution_count": null,
      "outputs": [
        {
          "output_type": "stream",
          "name": "stdout",
          "text": [
            "AGA Division\n",
            "Kandy                            130\n",
            "Colombo                           98\n",
            "Galle                             57\n",
            "Nuwara Eliya                      56\n",
            "Habaraduwa                        52\n",
            "                                ... \n",
            "Uppuveli Trinco Malee              1\n",
            "Talawa Pradeshiya Sabha            1\n",
            "Kalutara                           1\n",
            "Nallur Pradeshiya Sabha            1\n",
            "Thamankaduwa Pradeshiya Sabha      1\n",
            "Name: count, Length: 156, dtype: int64\n"
          ]
        }
      ]
    },
    {
      "cell_type": "code",
      "source": [
        "# Validating Grade\n",
        "counts = df['PS/MC/UC'].value_counts()\n",
        "print(counts)"
      ],
      "metadata": {
        "colab": {
          "base_uri": "https://localhost:8080/"
        },
        "id": "gsiorXw2BdCF",
        "outputId": "25826294-a3cf-4a33-b973-c9d5d7220fa4"
      },
      "execution_count": null,
      "outputs": [
        {
          "output_type": "stream",
          "name": "stdout",
          "text": [
            "PS/MC/UC\n",
            "Kandy Divisional Secretariat           89\n",
            "Colombo Divisional Secretariat         80\n",
            "Negombo Divisional Secretariat         56\n",
            "Nuwara Eliya Divisional Secretariat    55\n",
            "Habaraduwa Divisional Secretariat      51\n",
            "                                       ..\n",
            "Baduraliya                              1\n",
            "Sevanagala Divisional Secretariat       1\n",
            "Akkaraipattu Divisional Secretariat     1\n",
            "Ninthavur Divisional Secretariat        1\n",
            "Nallur Divisional Secretariat           1\n",
            "Name: count, Length: 189, dtype: int64\n"
          ]
        }
      ]
    },
    {
      "cell_type": "code",
      "source": [
        "# Validating Logitiute\n",
        "# Checking for non-numeric values in the 'Logitiute' column\n",
        "log = df[~df['Logitiute'].apply(lambda x: pd.api.types.is_number(x))]\n",
        "print(log)"
      ],
      "metadata": {
        "colab": {
          "base_uri": "https://localhost:8080/"
        },
        "id": "LwsmP7cXBgiV",
        "outputId": "ec920316-41c5-4801-a55c-6b4c2dd9d667"
      },
      "execution_count": null,
      "outputs": [
        {
          "output_type": "stream",
          "name": "stdout",
          "text": [
            "Empty DataFrame\n",
            "Columns: [Type, Name, Address, Rooms, Grade, District, AGA Division, PS/MC/UC, Logitiute, Latitude]\n",
            "Index: []\n"
          ]
        }
      ]
    },
    {
      "cell_type": "code",
      "source": [
        "# Validating Latitude\n",
        "# Checking for non-numeric values in the 'Latitude' column\n",
        "lat = df[~df['Latitude'].apply(lambda x: pd.api.types.is_number(x))]\n",
        "print(lat)"
      ],
      "metadata": {
        "id": "ZH7s8JCNBngO",
        "outputId": "294d39c9-0e0b-458c-99c2-ecf3d202e19b",
        "colab": {
          "base_uri": "https://localhost:8080/"
        }
      },
      "execution_count": null,
      "outputs": [
        {
          "output_type": "stream",
          "name": "stdout",
          "text": [
            "Empty DataFrame\n",
            "Columns: [Type, Name, Address, Rooms, Grade, District, AGA Division, PS/MC/UC, Logitiute, Latitude]\n",
            "Index: []\n"
          ]
        }
      ]
    },
    {
      "cell_type": "code",
      "source": [],
      "metadata": {
        "id": "mO-fU8S6Dpbw"
      },
      "execution_count": null,
      "outputs": []
    },
    {
      "cell_type": "markdown",
      "source": [
        "## Checking for Duplicates"
      ],
      "metadata": {
        "id": "D0Z9XoEyDqWB"
      }
    },
    {
      "cell_type": "code",
      "source": [
        "# Check for duplicates\n",
        "duplicates = df.duplicated()\n",
        "print(f'Number of duplicate rows: {duplicates.sum()}')\n",
        "print(df[duplicates])\n"
      ],
      "metadata": {
        "colab": {
          "base_uri": "https://localhost:8080/"
        },
        "id": "ueR2jk8qDtKG",
        "outputId": "042f391e-b3ad-471c-9661-95b5d84d4ef1"
      },
      "execution_count": null,
      "outputs": [
        {
          "output_type": "stream",
          "name": "stdout",
          "text": [
            "Number of duplicate rows: 0\n",
            "Empty DataFrame\n",
            "Columns: [Type, Name, Address, Rooms, Grade, District, AGA Division, PS/MC/UC, Logitiute, Latitude]\n",
            "Index: []\n"
          ]
        }
      ]
    },
    {
      "cell_type": "markdown",
      "source": [
        "## Saving the dataset"
      ],
      "metadata": {
        "id": "a7tqfu-_3zB_"
      }
    },
    {
      "cell_type": "code",
      "source": [
        "# Save processed dataset\n",
        "df.to_csv('processed_accommodation_data.csv', index=False)\n",
        "df.to_csv('/content/drive/MyDrive/Colab Data Files/Data Science Project Lifecycle/Individual CW/processed_accommodation_data.csv', index=False)"
      ],
      "metadata": {
        "id": "n3ayF7m73yMF"
      },
      "execution_count": null,
      "outputs": []
    }
  ]
}