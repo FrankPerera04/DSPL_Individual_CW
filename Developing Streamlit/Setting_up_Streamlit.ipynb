{
  "nbformat": 4,
  "nbformat_minor": 0,
  "metadata": {
    "colab": {
      "provenance": [],
      "authorship_tag": "ABX9TyM1Xz9rzjXCfGio9+as3lqq",
      "include_colab_link": true
    },
    "kernelspec": {
      "name": "python3",
      "display_name": "Python 3"
    },
    "language_info": {
      "name": "python"
    }
  },
  "cells": [
    {
      "cell_type": "markdown",
      "metadata": {
        "id": "view-in-github",
        "colab_type": "text"
      },
      "source": [
        "<a href=\"https://colab.research.google.com/github/FrankPerera04/DSPL_Individual_CW/blob/main/Developing%20Streamlit/Setting_up_Streamlit.ipynb\" target=\"_parent\"><img src=\"https://colab.research.google.com/assets/colab-badge.svg\" alt=\"Open In Colab\"/></a>"
      ]
    },
    {
      "cell_type": "markdown",
      "source": [
        "**Instructions for Usage**\n",
        "1. Install in packages\n",
        "2. Write the App\n",
        "3. Start streamlit and tunnel\n",
        "4. Get the ipv4 code\n",
        "5. Run and get the Tunnel link\n",
        "6. Enter the ipv4 code into the tunnel website to access streamlit"
      ],
      "metadata": {
        "id": "N0A9Ty4S-Itd"
      }
    },
    {
      "cell_type": "code",
      "execution_count": null,
      "metadata": {
        "colab": {
          "base_uri": "https://localhost:8080/"
        },
        "id": "JoN3xmVsjPg0",
        "outputId": "93e45003-5d11-4c10-bfe0-f930def53fd6"
      },
      "outputs": [
        {
          "output_type": "stream",
          "name": "stdout",
          "text": [
            "\u001b[2K     \u001b[90m━━━━━━━━━━━━━━━━━━━━━━━━━━━━━━━━━━━━━━━━\u001b[0m \u001b[32m44.3/44.3 kB\u001b[0m \u001b[31m1.0 MB/s\u001b[0m eta \u001b[36m0:00:00\u001b[0m\n",
            "\u001b[2K   \u001b[90m━━━━━━━━━━━━━━━━━━━━━━━━━━━━━━━━━━━━━━━━\u001b[0m \u001b[32m9.8/9.8 MB\u001b[0m \u001b[31m36.4 MB/s\u001b[0m eta \u001b[36m0:00:00\u001b[0m\n",
            "\u001b[2K   \u001b[90m━━━━━━━━━━━━━━━━━━━━━━━━━━━━━━━━━━━━━━━━\u001b[0m \u001b[32m6.9/6.9 MB\u001b[0m \u001b[31m44.3 MB/s\u001b[0m eta \u001b[36m0:00:00\u001b[0m\n",
            "\u001b[2K   \u001b[90m━━━━━━━━━━━━━━━━━━━━━━━━━━━━━━━━━━━━━━━━\u001b[0m \u001b[32m79.1/79.1 kB\u001b[0m \u001b[31m3.0 MB/s\u001b[0m eta \u001b[36m0:00:00\u001b[0m\n",
            "\u001b[?25h\u001b[1G\u001b[0K⠙\u001b[1G\u001b[0K⠹\u001b[1G\u001b[0K⠸\u001b[1G\u001b[0K⠼\u001b[1G\u001b[0K⠴\u001b[1G\u001b[0K⠦\u001b[1G\u001b[0K⠧\u001b[1G\u001b[0K⠇\u001b[1G\u001b[0K⠏\u001b[1G\u001b[0K⠋\u001b[1G\u001b[0K⠙\u001b[1G\u001b[0K⠹\u001b[1G\u001b[0K⠸\u001b[1G\u001b[0K⠼\u001b[1G\u001b[0K⠴\u001b[1G\u001b[0K⠦\u001b[1G\u001b[0K⠧\u001b[1G\u001b[0K⠇\u001b[1G\u001b[0K⠏\u001b[1G\u001b[0K⠋\u001b[1G\u001b[0K⠙\u001b[1G\u001b[0K⠹\u001b[1G\u001b[0K⠸\u001b[1G\u001b[0K⠼\u001b[1G\u001b[0K\n",
            "added 22 packages in 3s\n",
            "\u001b[1G\u001b[0K⠼\u001b[1G\u001b[0K\n",
            "\u001b[1G\u001b[0K⠼\u001b[1G\u001b[0K3 packages are looking for funding\n",
            "\u001b[1G\u001b[0K⠼\u001b[1G\u001b[0K  run `npm fund` for details\n",
            "\u001b[1G\u001b[0K⠼\u001b[1G\u001b[0K"
          ]
        }
      ],
      "source": [
        "!pip install streamlit -q\n",
        "!npm install -g localtunnel"
      ]
    },
    {
      "cell_type": "code",
      "source": [
        "import streamlit as st\n",
        "\n",
        "# Set page config IMMEDIATELY after importing streamlit\n",
        "st.set_page_config(page_title=\"Accommodation Dashboard\", layout=\"wide\")\n",
        "\n",
        "import pandas as pd\n",
        "import plotly.express as px\n",
        "\n",
        "# Load data from Google Drive path\n",
        "@st.cache_data\n",
        "def load_data():\n",
        "    # Change this to your Google Drive path if needed\n",
        "    return pd.read_csv(\"https://raw.githubusercontent.com/FrankPerera04/DSPL_Individual_CW/refs/heads/main/processed_accommodation_data%20(1).csv\")\n",
        "\n",
        "df = load_data()\n",
        "\n",
        "# Dashboard title\n",
        "st.title(\"🏢 Accommodation Insights Dashboard\")\n",
        "\n",
        "# Overview cards\n",
        "col1, col2, col3, col4 = st.columns(4)\n",
        "col1.metric(\"Total Records\", len(df))\n",
        "col2.metric(\"Unique Districts\", df[\"District\"].nunique())\n",
        "col3.metric(\"Accommodation Types\", df[\"Type\"].nunique())\n",
        "col4.metric(\"Total Rooms\", int(df[\"Rooms\"].sum()))\n",
        "\n",
        "# Sidebar filters\n",
        "with st.sidebar:\n",
        "    st.header(\"🔍 Filters\")\n",
        "    selected_districts = st.multiselect(\n",
        "        \"Select District(s)\",\n",
        "        df[\"District\"].unique(),\n",
        "        default=df[\"District\"].unique()\n",
        "    )\n",
        "    selected_types = st.multiselect(\n",
        "        \"Select Accommodation Type(s)\",\n",
        "        df[\"Type\"].unique(),\n",
        "        default=df[\"Type\"].unique()\n",
        "    )\n",
        "\n",
        "# Apply filters\n",
        "filtered_df = df[\n",
        "    (df[\"District\"].isin(selected_districts)) &\n",
        "    (df[\"Type\"].isin(selected_types))\n",
        "]\n",
        "\n",
        "# Accommodation Metrics by District\n",
        "st.subheader(\"Accommodation Metrics by District\")\n",
        "\n",
        "# Grouping data\n",
        "metrics_df = filtered_df.groupby(\"District\").agg(\n",
        "    Total_Accommodations=(\"Name\", \"count\"),\n",
        "    Total_Rooms=(\"Rooms\", \"sum\"),\n",
        "    Average_Rooms_Per_Property=(\"Rooms\", \"mean\")\n",
        ").reset_index()\n",
        "\n",
        "# Round average to 1 decimal\n",
        "metrics_df[\"Average_Rooms_Per_Property\"] = metrics_df[\"Average_Rooms_Per_Property\"].round(1)\n",
        "\n",
        "# 1. Total Number of Accommodations per District\n",
        "st.subheader(\"1 - Total Number of Accommodations per District\")\n",
        "\n",
        "# Sort the dataframe by Total_Accommodations descending\n",
        "metrics_df_sorted = metrics_df.sort_values(by=\"Total_Accommodations\", ascending=False)\n",
        "\n",
        "fig_acc = px.bar(\n",
        "    metrics_df_sorted,\n",
        "    x=\"District\",\n",
        "    y=\"Total_Accommodations\",\n",
        "    color=\"Total_Accommodations\",\n",
        "    text=\"Total_Accommodations\",\n",
        "    template=\"plotly_dark\"\n",
        ")\n",
        "\n",
        "fig_acc.update_layout(\n",
        "    xaxis_title=\"District\",\n",
        "    yaxis_title=\"Number of Accommodations\",\n",
        "    xaxis_tickangle=-45\n",
        ")\n",
        "\n",
        "st.plotly_chart(fig_acc, use_container_width=True)\n",
        "\n",
        "\n",
        "# 2. Total Number of Rooms per District\n",
        "st.subheader(\"2 - Total Number of Rooms per District\")\n",
        "fig_rooms = px.bar(\n",
        "    metrics_df,\n",
        "    x=\"District\",\n",
        "    y=\"Total_Rooms\",\n",
        "    color=\"Total_Rooms\",\n",
        "    text=\"Total_Rooms\",\n",
        "    template=\"plotly_dark\"\n",
        ")\n",
        "fig_rooms.update_layout(xaxis_title=\"District\", yaxis_title=\"Number of Rooms\", xaxis_tickangle=-45)\n",
        "st.plotly_chart(fig_rooms, use_container_width=True)\n",
        "\n",
        "# 3. Average Size of Accommodations (Rooms per Property)\n",
        "st.subheader(\"3 - Average Size of Accommodations (Rooms per Property)\")\n",
        "fig_avg = px.bar(\n",
        "    metrics_df,\n",
        "    x=\"District\",\n",
        "    y=\"Average_Rooms_Per_Property\",\n",
        "    color=\"Average_Rooms_Per_Property\",\n",
        "    text=\"Average_Rooms_Per_Property\",\n",
        "    template=\"plotly_dark\"\n",
        ")\n",
        "fig_avg.update_layout(xaxis_title=\"District\", yaxis_title=\"Average Rooms per Property\", xaxis_tickangle=-45)\n",
        "st.plotly_chart(fig_avg, use_container_width=True)\n",
        "\n",
        "\n",
        "\n",
        "\n",
        "# Bar chart: Number of accommodations per district\n",
        "st.subheader(\"🏙️ Number of Accommodations per District\")\n",
        "district_count = filtered_df[\"District\"].value_counts().reset_index()\n",
        "district_count.columns = [\"District\", \"Count\"]\n",
        "fig1 = px.bar(\n",
        "    district_count,\n",
        "    x=\"District\",\n",
        "    y=\"Count\",\n",
        "    color=\"District\",\n",
        "    text=\"Count\",\n",
        "    template=\"plotly_dark\"\n",
        ")\n",
        "st.plotly_chart(fig1, use_container_width=True)\n",
        "\n",
        "# Pie chart: Distribution by accommodation type\n",
        "st.subheader(\"🏘️ Distribution by Accommodation Type\")\n",
        "type_count = filtered_df[\"Type\"].value_counts().reset_index()\n",
        "type_count.columns = [\"Type\", \"Count\"]\n",
        "fig2 = px.pie(\n",
        "    type_count,\n",
        "    names=\"Type\",\n",
        "    values=\"Count\",\n",
        "    hole=0.4,\n",
        "    template=\"plotly_dark\"\n",
        ")\n",
        "st.plotly_chart(fig2, use_container_width=True)\n",
        "\n",
        "# Bar chart: Total number of rooms per accommodation type\n",
        "st.subheader(\"🛏️ Total Number of Rooms per Accommodation Type\")\n",
        "rooms_by_type = filtered_df.groupby(\"Type\")[\"Rooms\"].sum().reset_index().sort_values(by=\"Rooms\", ascending=False)\n",
        "fig3 = px.bar(\n",
        "    rooms_by_type,\n",
        "    x=\"Type\",\n",
        "    y=\"Rooms\",\n",
        "    color=\"Rooms\",\n",
        "    text=\"Rooms\",\n",
        "    template=\"plotly_dark\",\n",
        "    labels={\"Rooms\": \"Total Rooms\", \"Type\": \"Accommodation Type\"}\n",
        ")\n",
        "fig3.update_layout(\n",
        "    xaxis_title=\"Accommodation Type\",\n",
        "    yaxis_title=\"Total Rooms\",\n",
        "    xaxis_tickangle=-45\n",
        ")\n",
        "st.plotly_chart(fig3, use_container_width=True)\n",
        "\n",
        "# Map: Locations of accommodations\n",
        "st.subheader(\"🗺️ Accommodation Locations Map\")\n",
        "st.map(\n",
        "    filtered_df[[\"Latitude\", \"Logitiute\"]]\n",
        "    .rename(columns={\"Logitiute\": \"longitude\", \"Latitude\": \"latitude\"})\n",
        ")\n",
        "\n",
        "# Data table: Show filtered data\n",
        "st.subheader(\"📋 Filtered Accommodation Data\")\n",
        "st.dataframe(filtered_df, use_container_width=True)\n"
      ],
      "metadata": {
        "id": "0hHJLvMh9xyB",
        "outputId": "bc686b82-14e3-4b76-d74f-1a8b695f3922",
        "colab": {
          "base_uri": "https://localhost:8080/"
        }
      },
      "execution_count": null,
      "outputs": [
        {
          "output_type": "stream",
          "name": "stdout",
          "text": [
            "Writing app.py\n"
          ]
        }
      ]
    },
    {
      "cell_type": "code",
      "execution_count": null,
      "metadata": {
        "colab": {
          "base_uri": "https://localhost:8080/"
        },
        "id": "dbwRThWKjVB0",
        "outputId": "ded51c34-5471-4c70-8896-81ca68b29250"
      },
      "outputs": [
        {
          "output_type": "stream",
          "name": "stdout",
          "text": [
            "\n",
            "Collecting usage statistics. To deactivate, set browser.gatherUsageStats to false.\n",
            "\u001b[0m\n",
            "\u001b[0m\n",
            "\u001b[34m\u001b[1m  You can now view your Streamlit app in your browser.\u001b[0m\n",
            "\u001b[0m\n",
            "\u001b[34m  Local URL: \u001b[0m\u001b[1mhttp://localhost:8501\u001b[0m\n",
            "\u001b[34m  Network URL: \u001b[0m\u001b[1mhttp://172.28.0.12:8501\u001b[0m\n",
            "\u001b[34m  External URL: \u001b[0m\u001b[1mhttp://34.57.220.32:8501\u001b[0m\n",
            "\u001b[0m\n"
          ]
        }
      ],
      "source": [
        "# Start Streamlit and tunnel in the background\n",
        "import threading\n",
        "import time\n",
        "\n",
        "def run_app():\n",
        "    get_ipython().system('streamlit run app.py &')\n",
        "\n",
        "threading.Thread(target=run_app).start()\n",
        "time.sleep(10)  # wait for Streamlit to start"
      ]
    },
    {
      "cell_type": "code",
      "execution_count": null,
      "metadata": {
        "colab": {
          "base_uri": "https://localhost:8080/"
        },
        "id": "jWw7F5xpjzGb",
        "outputId": "6c9b7d78-188f-46da-f522-3671de81b701"
      },
      "outputs": [
        {
          "output_type": "stream",
          "name": "stdout",
          "text": [
            "34.57.220.32\n"
          ]
        }
      ],
      "source": [
        "!wget -q -O - ipv4.icanhazip.com"
      ]
    },
    {
      "cell_type": "code",
      "execution_count": null,
      "metadata": {
        "colab": {
          "base_uri": "https://localhost:8080/"
        },
        "id": "Wyoz9jiJjYBz",
        "outputId": "375dd69c-bf32-4c3c-925d-1e56f035d8d3"
      },
      "outputs": [
        {
          "output_type": "stream",
          "name": "stdout",
          "text": [
            "\u001b[1G\u001b[0K⠙\u001b[1G\u001b[0K⠹\u001b[1G\u001b[0K⠸\u001b[1G\u001b[0K⠼\u001b[1G\u001b[0K⠴\u001b[1G\u001b[0Kyour url is: https://quiet-feet-like.loca.lt\n",
            "\u001b[31m──\u001b[0m\u001b[31m────────────────────────\u001b[0m\u001b[31m \u001b[0m\u001b[1;31mTraceback \u001b[0m\u001b[1;2;31m(most recent call last)\u001b[0m\u001b[31m \u001b[0m\u001b[31m─────────────────────────\u001b[0m\u001b[31m──\u001b[0m\n",
            "\u001b[31m \u001b[0m \u001b[2;33m/usr/local/lib/python3.11/dist-packages/streamlit/runtime/scriptrunner/\u001b[0m\u001b[1;33mexec_code.py\u001b[0m: \u001b[31m \u001b[0m\n",
            "\u001b[31m \u001b[0m \u001b[94m121\u001b[0m in \u001b[92mexec_func_with_error_handling\u001b[0m                                                 \u001b[31m \u001b[0m\n",
            "\u001b[31m \u001b[0m                                                                                      \u001b[31m \u001b[0m\n",
            "\u001b[31m \u001b[0m \u001b[2;33m/usr/local/lib/python3.11/dist-packages/streamlit/runtime/scriptrunner/\u001b[0m\u001b[1;33mscript_runner\u001b[0m \u001b[31m \u001b[0m\n",
            "\u001b[31m \u001b[0m \u001b[1;33m.py\u001b[0m:\u001b[94m640\u001b[0m in \u001b[92mcode_to_exec\u001b[0m                                                              \u001b[31m \u001b[0m\n",
            "\u001b[31m \u001b[0m                                                                                      \u001b[31m \u001b[0m\n",
            "\u001b[31m \u001b[0m \u001b[2;33m/content/\u001b[0m\u001b[1;33mapp.py\u001b[0m:\u001b[94m15\u001b[0m in \u001b[92m<module>\u001b[0m                                                       \u001b[31m \u001b[0m\n",
            "\u001b[31m \u001b[0m                                                                                      \u001b[31m \u001b[0m\n",
            "\u001b[31m \u001b[0m   \u001b[2m 12 \u001b[0m\u001b[2m│   \u001b[0m\u001b[2m# Change this to your Google Drive path if needed\u001b[0m                          \u001b[31m \u001b[0m\n",
            "\u001b[31m \u001b[0m   \u001b[2m 13 \u001b[0m\u001b[2m│   \u001b[0m\u001b[94mreturn\u001b[0m pd.read_csv(\u001b[33m\"\u001b[0m\u001b[33m/content/drive/MyDrive/processed_accommodation_data.cs\u001b[0m \u001b[31m \u001b[0m\n",
            "\u001b[31m \u001b[0m   \u001b[2m 14 \u001b[0m                                                                               \u001b[31m \u001b[0m\n",
            "\u001b[31m \u001b[0m \u001b[31m❱ \u001b[0m 15 df = \u001b[1;4mload_data()\u001b[0m                                                               \u001b[31m \u001b[0m\n",
            "\u001b[31m \u001b[0m   \u001b[2m 16 \u001b[0m                                                                               \u001b[31m \u001b[0m\n",
            "\u001b[31m \u001b[0m   \u001b[2m 17 \u001b[0m\u001b[2m# Dashboard title\u001b[0m                                                              \u001b[31m \u001b[0m\n",
            "\u001b[31m \u001b[0m   \u001b[2m 18 \u001b[0mst.title(\u001b[33m\"\u001b[0m\u001b[33m🏨 Accommodation Insights Dashboard\u001b[0m\u001b[33m\"\u001b[0m)                                \u001b[31m \u001b[0m\n",
            "\u001b[31m \u001b[0m                                                                                      \u001b[31m \u001b[0m\n",
            "\u001b[31m \u001b[0m \u001b[2;33m/usr/local/lib/python3.11/dist-packages/streamlit/runtime/caching/\u001b[0m\u001b[1;33mcache_utils.py\u001b[0m:\u001b[94m219\u001b[0m \u001b[31m \u001b[0m\n",
            "\u001b[31m \u001b[0m in \u001b[92m__call__\u001b[0m                                                                          \u001b[31m \u001b[0m\n",
            "\u001b[31m \u001b[0m                                                                                      \u001b[31m \u001b[0m\n",
            "\u001b[31m \u001b[0m \u001b[2;33m/usr/local/lib/python3.11/dist-packages/streamlit/runtime/caching/\u001b[0m\u001b[1;33mcache_utils.py\u001b[0m:\u001b[94m261\u001b[0m \u001b[31m \u001b[0m\n",
            "\u001b[31m \u001b[0m in \u001b[92m_get_or_create_cached_value\u001b[0m                                                       \u001b[31m \u001b[0m\n",
            "\u001b[31m \u001b[0m                                                                                      \u001b[31m \u001b[0m\n",
            "\u001b[31m \u001b[0m \u001b[2;33m/usr/local/lib/python3.11/dist-packages/streamlit/runtime/caching/\u001b[0m\u001b[1;33mcache_utils.py\u001b[0m:\u001b[94m320\u001b[0m \u001b[31m \u001b[0m\n",
            "\u001b[31m \u001b[0m in \u001b[92m_handle_cache_miss\u001b[0m                                                                \u001b[31m \u001b[0m\n",
            "\u001b[31m \u001b[0m                                                                                      \u001b[31m \u001b[0m\n",
            "\u001b[31m \u001b[0m \u001b[2;33m/content/\u001b[0m\u001b[1;33mapp.py\u001b[0m:\u001b[94m13\u001b[0m in \u001b[92mload_data\u001b[0m                                                      \u001b[31m \u001b[0m\n",
            "\u001b[31m \u001b[0m                                                                                      \u001b[31m \u001b[0m\n",
            "\u001b[31m \u001b[0m   \u001b[2m 10 \u001b[0m\u001b[1;95m@st\u001b[0m.cache_data                                                                 \u001b[31m \u001b[0m\n",
            "\u001b[31m \u001b[0m   \u001b[2m 11 \u001b[0m\u001b[94mdef\u001b[0m\u001b[90m \u001b[0m\u001b[92mload_data\u001b[0m():                                                               \u001b[31m \u001b[0m\n",
            "\u001b[31m \u001b[0m   \u001b[2m 12 \u001b[0m\u001b[2m│   \u001b[0m\u001b[2m# Change this to your Google Drive path if needed\u001b[0m                          \u001b[31m \u001b[0m\n",
            "\u001b[31m \u001b[0m \u001b[31m❱ \u001b[0m 13 \u001b[2m│   \u001b[0m\u001b[94mreturn\u001b[0m \u001b[1;4mpd.read_csv(\u001b[0m\u001b[1;4;33m\"\u001b[0m\u001b[1;4;33m/content/drive/MyDrive/processed_accommodation_data.cs\u001b[0m \u001b[31m \u001b[0m\n",
            "\u001b[31m \u001b[0m   \u001b[2m 14 \u001b[0m                                                                               \u001b[31m \u001b[0m\n",
            "\u001b[31m \u001b[0m   \u001b[2m 15 \u001b[0mdf = load_data()                                                               \u001b[31m \u001b[0m\n",
            "\u001b[31m \u001b[0m   \u001b[2m 16 \u001b[0m                                                                               \u001b[31m \u001b[0m\n",
            "\u001b[31m \u001b[0m                                                                                      \u001b[31m \u001b[0m\n",
            "\u001b[31m \u001b[0m \u001b[2;33m/usr/local/lib/python3.11/dist-packages/pandas/io/parsers/\u001b[0m\u001b[1;33mreaders.py\u001b[0m:\u001b[94m1026\u001b[0m in         \u001b[31m \u001b[0m\n",
            "\u001b[31m \u001b[0m \u001b[92mread_csv\u001b[0m                                                                             \u001b[31m \u001b[0m\n",
            "\u001b[31m \u001b[0m                                                                                      \u001b[31m \u001b[0m\n",
            "\u001b[31m \u001b[0m   \u001b[2m1023 \u001b[0m\u001b[2m│   \u001b[0m)                                                                         \u001b[31m \u001b[0m\n",
            "\u001b[31m \u001b[0m   \u001b[2m1024 \u001b[0m\u001b[2m│   \u001b[0mkwds.update(kwds_defaults)                                                \u001b[31m \u001b[0m\n",
            "\u001b[31m \u001b[0m   \u001b[2m1025 \u001b[0m\u001b[2m│   \u001b[0m                                                                          \u001b[31m \u001b[0m\n",
            "\u001b[31m \u001b[0m \u001b[31m❱ \u001b[0m1026 \u001b[2m│   \u001b[0m\u001b[94mreturn\u001b[0m \u001b[1;4m_read(filepath_or_buffer, kwds)\u001b[0m                                    \u001b[31m \u001b[0m\n",
            "\u001b[31m \u001b[0m   \u001b[2m1027 \u001b[0m                                                                              \u001b[31m \u001b[0m\n",
            "\u001b[31m \u001b[0m   \u001b[2m1028 \u001b[0m                                                                              \u001b[31m \u001b[0m\n",
            "\u001b[31m \u001b[0m   \u001b[2m1029 \u001b[0m\u001b[2m# iterator=True -> TextFileReader\u001b[0m                                             \u001b[31m \u001b[0m\n",
            "\u001b[31m \u001b[0m                                                                                      \u001b[31m \u001b[0m\n",
            "\u001b[31m \u001b[0m \u001b[2;33m/usr/local/lib/python3.11/dist-packages/pandas/io/parsers/\u001b[0m\u001b[1;33mreaders.py\u001b[0m:\u001b[94m620\u001b[0m in \u001b[92m_read\u001b[0m    \u001b[31m \u001b[0m\n",
            "\u001b[31m \u001b[0m                                                                                      \u001b[31m \u001b[0m\n",
            "\u001b[31m \u001b[0m   \u001b[2m 617 \u001b[0m\u001b[2m│   \u001b[0m_validate_names(kwds.get(\u001b[33m\"\u001b[0m\u001b[33mnames\u001b[0m\u001b[33m\"\u001b[0m, \u001b[94mNone\u001b[0m))                                  \u001b[31m \u001b[0m\n",
            "\u001b[31m \u001b[0m   \u001b[2m 618 \u001b[0m\u001b[2m│   \u001b[0m                                                                          \u001b[31m \u001b[0m\n",
            "\u001b[31m \u001b[0m   \u001b[2m 619 \u001b[0m\u001b[2m│   \u001b[0m\u001b[2m# Create the parser.\u001b[0m                                                      \u001b[31m \u001b[0m\n",
            "\u001b[31m \u001b[0m \u001b[31m❱ \u001b[0m 620 \u001b[2m│   \u001b[0mparser = \u001b[1;4mTextFileReader(filepath_or_buffer, **kwds)\u001b[0m                       \u001b[31m \u001b[0m\n",
            "\u001b[31m \u001b[0m   \u001b[2m 621 \u001b[0m\u001b[2m│   \u001b[0m                                                                          \u001b[31m \u001b[0m\n",
            "\u001b[31m \u001b[0m   \u001b[2m 622 \u001b[0m\u001b[2m│   \u001b[0m\u001b[94mif\u001b[0m chunksize \u001b[95mor\u001b[0m iterator:                                                 \u001b[31m \u001b[0m\n",
            "\u001b[31m \u001b[0m   \u001b[2m 623 \u001b[0m\u001b[2m│   │   \u001b[0m\u001b[94mreturn\u001b[0m parser                                                         \u001b[31m \u001b[0m\n",
            "\u001b[31m \u001b[0m                                                                                      \u001b[31m \u001b[0m\n",
            "\u001b[31m \u001b[0m \u001b[2;33m/usr/local/lib/python3.11/dist-packages/pandas/io/parsers/\u001b[0m\u001b[1;33mreaders.py\u001b[0m:\u001b[94m1620\u001b[0m in         \u001b[31m \u001b[0m\n",
            "\u001b[31m \u001b[0m \u001b[92m__init__\u001b[0m                                                                             \u001b[31m \u001b[0m\n",
            "\u001b[31m \u001b[0m                                                                                      \u001b[31m \u001b[0m\n",
            "\u001b[31m \u001b[0m   \u001b[2m1617 \u001b[0m\u001b[2m│   │   │   \u001b[0m\u001b[96mself\u001b[0m.options[\u001b[33m\"\u001b[0m\u001b[33mhas_index_names\u001b[0m\u001b[33m\"\u001b[0m] = kwds[\u001b[33m\"\u001b[0m\u001b[33mhas_index_names\u001b[0m\u001b[33m\"\u001b[0m]         \u001b[31m \u001b[0m\n",
            "\u001b[31m \u001b[0m   \u001b[2m1618 \u001b[0m\u001b[2m│   │   \u001b[0m                                                                      \u001b[31m \u001b[0m\n",
            "\u001b[31m \u001b[0m   \u001b[2m1619 \u001b[0m\u001b[2m│   │   \u001b[0m\u001b[96mself\u001b[0m.handles: IOHandles | \u001b[94mNone\u001b[0m = \u001b[94mNone\u001b[0m                                 \u001b[31m \u001b[0m\n",
            "\u001b[31m \u001b[0m \u001b[31m❱ \u001b[0m1620 \u001b[2m│   │   \u001b[0m\u001b[96mself\u001b[0m._engine = \u001b[1;4;96mself\u001b[0m\u001b[1;4m._make_engine(f, \u001b[0m\u001b[1;4;96mself\u001b[0m\u001b[1;4m.engine)\u001b[0m                      \u001b[31m \u001b[0m\n",
            "\u001b[31m \u001b[0m   \u001b[2m1621 \u001b[0m\u001b[2m│   \u001b[0m                                                                          \u001b[31m \u001b[0m\n",
            "\u001b[31m \u001b[0m   \u001b[2m1622 \u001b[0m\u001b[2m│   \u001b[0m\u001b[94mdef\u001b[0m\u001b[90m \u001b[0m\u001b[92mclose\u001b[0m(\u001b[96mself\u001b[0m) -> \u001b[94mNone\u001b[0m:                                                  \u001b[31m \u001b[0m\n",
            "\u001b[31m \u001b[0m   \u001b[2m1623 \u001b[0m\u001b[2m│   │   \u001b[0m\u001b[94mif\u001b[0m \u001b[96mself\u001b[0m.handles \u001b[95mis\u001b[0m \u001b[95mnot\u001b[0m \u001b[94mNone\u001b[0m:                                          \u001b[31m \u001b[0m\n",
            "\u001b[31m \u001b[0m                                                                                      \u001b[31m \u001b[0m\n",
            "\u001b[31m \u001b[0m \u001b[2;33m/usr/local/lib/python3.11/dist-packages/pandas/io/parsers/\u001b[0m\u001b[1;33mreaders.py\u001b[0m:\u001b[94m1880\u001b[0m in         \u001b[31m \u001b[0m\n",
            "\u001b[31m \u001b[0m \u001b[92m_make_engine\u001b[0m                                                                         \u001b[31m \u001b[0m\n",
            "\u001b[31m \u001b[0m                                                                                      \u001b[31m \u001b[0m\n",
            "\u001b[31m \u001b[0m   \u001b[2m1877 \u001b[0m\u001b[2m│   │   │   │   \u001b[0mis_text = \u001b[94mFalse\u001b[0m                                               \u001b[31m \u001b[0m\n",
            "\u001b[31m \u001b[0m   \u001b[2m1878 \u001b[0m\u001b[2m│   │   │   │   \u001b[0m\u001b[94mif\u001b[0m \u001b[33m\"\u001b[0m\u001b[33mb\u001b[0m\u001b[33m\"\u001b[0m \u001b[95mnot\u001b[0m \u001b[95min\u001b[0m mode:                                           \u001b[31m \u001b[0m\n",
            "\u001b[31m \u001b[0m   \u001b[2m1879 \u001b[0m\u001b[2m│   │   │   │   │   \u001b[0mmode += \u001b[33m\"\u001b[0m\u001b[33mb\u001b[0m\u001b[33m\"\u001b[0m                                               \u001b[31m \u001b[0m\n",
            "\u001b[31m \u001b[0m \u001b[31m❱ \u001b[0m1880 \u001b[2m│   │   │   \u001b[0m\u001b[96mself\u001b[0m.handles = get_handle(                                        \u001b[31m \u001b[0m\n",
            "\u001b[31m \u001b[0m   \u001b[2m1881 \u001b[0m\u001b[2m│   │   │   │   \u001b[0mf,                                                            \u001b[31m \u001b[0m\n",
            "\u001b[31m \u001b[0m   \u001b[2m1882 \u001b[0m\u001b[2m│   │   │   │   \u001b[0mmode,                                                         \u001b[31m \u001b[0m\n",
            "\u001b[31m \u001b[0m   \u001b[2m1883 \u001b[0m\u001b[2m│   │   │   │   \u001b[0mencoding=\u001b[96mself\u001b[0m.options.get(\u001b[33m\"\u001b[0m\u001b[33mencoding\u001b[0m\u001b[33m\"\u001b[0m, \u001b[94mNone\u001b[0m),                  \u001b[31m \u001b[0m\n",
            "\u001b[31m \u001b[0m                                                                                      \u001b[31m \u001b[0m\n",
            "\u001b[31m \u001b[0m \u001b[2;33m/usr/local/lib/python3.11/dist-packages/pandas/io/\u001b[0m\u001b[1;33mcommon.py\u001b[0m:\u001b[94m873\u001b[0m in \u001b[92mget_handle\u001b[0m        \u001b[31m \u001b[0m\n",
            "\u001b[31m \u001b[0m                                                                                      \u001b[31m \u001b[0m\n",
            "\u001b[31m \u001b[0m   \u001b[2m 870 \u001b[0m\u001b[2m│   │   \u001b[0m\u001b[2m# Binary mode does not support 'encoding' and 'newline'.\u001b[0m              \u001b[31m \u001b[0m\n",
            "\u001b[31m \u001b[0m   \u001b[2m 871 \u001b[0m\u001b[2m│   │   \u001b[0m\u001b[94mif\u001b[0m ioargs.encoding \u001b[95mand\u001b[0m \u001b[33m\"\u001b[0m\u001b[33mb\u001b[0m\u001b[33m\"\u001b[0m \u001b[95mnot\u001b[0m \u001b[95min\u001b[0m ioargs.mode:                        \u001b[31m \u001b[0m\n",
            "\u001b[31m \u001b[0m   \u001b[2m 872 \u001b[0m\u001b[2m│   │   │   \u001b[0m\u001b[2m# Encoding\u001b[0m                                                        \u001b[31m \u001b[0m\n",
            "\u001b[31m \u001b[0m \u001b[31m❱ \u001b[0m 873 \u001b[2m│   │   │   \u001b[0mhandle = \u001b[96mopen\u001b[0m(                                                    \u001b[31m \u001b[0m\n",
            "\u001b[31m \u001b[0m   \u001b[2m 874 \u001b[0m\u001b[2m│   │   │   │   \u001b[0mhandle,                                                       \u001b[31m \u001b[0m\n",
            "\u001b[31m \u001b[0m   \u001b[2m 875 \u001b[0m\u001b[2m│   │   │   │   \u001b[0mioargs.mode,                                                  \u001b[31m \u001b[0m\n",
            "\u001b[31m \u001b[0m   \u001b[2m 876 \u001b[0m\u001b[2m│   │   │   │   \u001b[0mencoding=ioargs.encoding,                                     \u001b[31m \u001b[0m\n",
            "\u001b[31m────────────────────────────────────────────────────────────────────────────────────────\u001b[0m\n",
            "\u001b[1;91mFileNotFoundError: \u001b[0m\u001b[1m[\u001b[0mErrno \u001b[1;36m2\u001b[0m\u001b[1m]\u001b[0m No such file or directory: \n",
            "\u001b[32m'/content/drive/MyDrive/processed_accommodation_data.csv'\u001b[0m\n",
            "\u001b[34m  Stopping...\u001b[0m\n",
            "^C\n"
          ]
        }
      ],
      "source": [
        "# Create the tunnel\n",
        "get_ipython().system('npx localtunnel --port 8501')"
      ]
    }
  ]
}